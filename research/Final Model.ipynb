{
 "cells": [
  {
   "cell_type": "code",
   "execution_count": 5,
   "id": "66b9a988",
   "metadata": {},
   "outputs": [],
   "source": [
    "# !pip install --upgrade pip\n",
    "# !pip install numpy pandas rectools 'rectools[lightfm]' seaborn"
   ]
  },
  {
   "cell_type": "markdown",
   "id": "b311ff53",
   "metadata": {},
   "source": [
    "# ⬇️ IMPORTS"
   ]
  },
  {
   "cell_type": "code",
   "execution_count": 1,
   "id": "4a4f7234",
   "metadata": {},
   "outputs": [],
   "source": [
    "# System Imports\n",
    "import warnings\n",
    "warnings.filterwarnings(\"ignore\")\n",
    "\n",
    "# Datetime\n",
    "from datetime import datetime as dt\n",
    "\n",
    "# Data Processing\n",
    "import json\n",
    "import numpy as np\n",
    "import pandas as pd\n",
    "\n",
    "# RecTools\n",
    "from rectools.dataset import Dataset\n",
    "from rectools.models import model_from_config\n",
    "\n",
    "# Visualizations\n",
    "import seaborn as sns\n",
    "import matplotlib.pyplot as plt\n",
    "from tqdm import tqdm_notebook"
   ]
  },
  {
   "cell_type": "markdown",
   "id": "1ed4ca57",
   "metadata": {},
   "source": [
    "# 🌆 Environment"
   ]
  },
  {
   "cell_type": "code",
   "execution_count": 2,
   "id": "47f5d37f",
   "metadata": {},
   "outputs": [],
   "source": [
    "TOP_K = 10\n",
    "NUM_THREADS = 6\n",
    "RANDOM_STATE = 23\n",
    "\n",
    "# Randomization\n",
    "np.random.seed(RANDOM_STATE)"
   ]
  },
  {
   "cell_type": "markdown",
   "id": "3deb556f",
   "metadata": {},
   "source": [
    "# 💎 Данные"
   ]
  },
  {
   "cell_type": "code",
   "execution_count": 3,
   "id": "87349ef4",
   "metadata": {},
   "outputs": [
    {
     "name": "stdout",
     "output_type": "stream",
     "text": [
      "Basic Statistics:\n",
      "(217256, 7)\n",
      "Number of unique users: 19,378\n",
      "Number of unique pools: 17,032\n",
      "Number of unique types: 9\n",
      "Number of unique chains: 54\n",
      "Number of unique protocols: 2,057\n"
     ]
    },
    {
     "data": {
      "text/html": [
       "<div>\n",
       "<style scoped>\n",
       "    .dataframe tbody tr th:only-of-type {\n",
       "        vertical-align: middle;\n",
       "    }\n",
       "\n",
       "    .dataframe tbody tr th {\n",
       "        vertical-align: top;\n",
       "    }\n",
       "\n",
       "    .dataframe thead th {\n",
       "        text-align: right;\n",
       "    }\n",
       "</style>\n",
       "<table border=\"1\" class=\"dataframe\">\n",
       "  <thead>\n",
       "    <tr style=\"text-align: right;\">\n",
       "      <th></th>\n",
       "      <th>user</th>\n",
       "      <th>protocol</th>\n",
       "      <th>chain</th>\n",
       "      <th>pool</th>\n",
       "      <th>balance</th>\n",
       "      <th>types</th>\n",
       "      <th>balance_share</th>\n",
       "    </tr>\n",
       "  </thead>\n",
       "  <tbody>\n",
       "    <tr>\n",
       "      <th>0</th>\n",
       "      <td>0xfd09f0296af88ac777c137ecd92d85583a9b9e4a</td>\n",
       "      <td>ftm_pwawallet</td>\n",
       "      <td>ftm</td>\n",
       "      <td>FTM</td>\n",
       "      <td>1.053008e+06</td>\n",
       "      <td>common</td>\n",
       "      <td>1.000000</td>\n",
       "    </tr>\n",
       "    <tr>\n",
       "      <th>1</th>\n",
       "      <td>0x637b935cba030aeb876eae07aa7ff637166de4d6</td>\n",
       "      <td>avax_unifiprotocol</td>\n",
       "      <td>avax</td>\n",
       "      <td>UNFI/AVAX</td>\n",
       "      <td>1.319143e+00</td>\n",
       "      <td>common</td>\n",
       "      <td>0.000002</td>\n",
       "    </tr>\n",
       "    <tr>\n",
       "      <th>2</th>\n",
       "      <td>0x637b935cba030aeb876eae07aa7ff637166de4d6</td>\n",
       "      <td>balancer</td>\n",
       "      <td>eth</td>\n",
       "      <td>DAI/YFID</td>\n",
       "      <td>8.536821e+01</td>\n",
       "      <td>common</td>\n",
       "      <td>0.000111</td>\n",
       "    </tr>\n",
       "    <tr>\n",
       "      <th>3</th>\n",
       "      <td>0x637b935cba030aeb876eae07aa7ff637166de4d6</td>\n",
       "      <td>bsc_acryptos</td>\n",
       "      <td>bsc</td>\n",
       "      <td>ACSI</td>\n",
       "      <td>3.888207e+02</td>\n",
       "      <td>common</td>\n",
       "      <td>0.000504</td>\n",
       "    </tr>\n",
       "    <tr>\n",
       "      <th>4</th>\n",
       "      <td>0x637b935cba030aeb876eae07aa7ff637166de4d6</td>\n",
       "      <td>bsc_acryptos</td>\n",
       "      <td>bsc</td>\n",
       "      <td>ACS/WAV/BNB</td>\n",
       "      <td>3.686864e+03</td>\n",
       "      <td>common</td>\n",
       "      <td>0.004783</td>\n",
       "    </tr>\n",
       "  </tbody>\n",
       "</table>\n",
       "</div>"
      ],
      "text/plain": [
       "                                         user            protocol chain  \\\n",
       "0  0xfd09f0296af88ac777c137ecd92d85583a9b9e4a       ftm_pwawallet   ftm   \n",
       "1  0x637b935cba030aeb876eae07aa7ff637166de4d6  avax_unifiprotocol  avax   \n",
       "2  0x637b935cba030aeb876eae07aa7ff637166de4d6            balancer   eth   \n",
       "3  0x637b935cba030aeb876eae07aa7ff637166de4d6        bsc_acryptos   bsc   \n",
       "4  0x637b935cba030aeb876eae07aa7ff637166de4d6        bsc_acryptos   bsc   \n",
       "\n",
       "          pool       balance   types  balance_share  \n",
       "0          FTM  1.053008e+06  common       1.000000  \n",
       "1    UNFI/AVAX  1.319143e+00  common       0.000002  \n",
       "2     DAI/YFID  8.536821e+01  common       0.000111  \n",
       "3         ACSI  3.888207e+02  common       0.000504  \n",
       "4  ACS/WAV/BNB  3.686864e+03  common       0.004783  "
      ]
     },
     "execution_count": 3,
     "metadata": {},
     "output_type": "execute_result"
    }
   ],
   "source": [
    "df = pd.read_csv('../data/debank_data.csv')\n",
    "df.drop(columns=[\"Unnamed: 0\"], inplace=True)\n",
    "df.dropna(inplace=True)\n",
    "\n",
    "# Basic statistics\n",
    "print(\"Basic Statistics:\")\n",
    "print(df.shape)\n",
    "print(f\"Number of unique users: {df['user'].nunique():,}\")\n",
    "print(f\"Number of unique pools: {df['pool'].nunique():,}\")\n",
    "print(f\"Number of unique types: {df['types'].nunique():,}\")\n",
    "print(f\"Number of unique chains: {df['chain'].nunique():,}\")\n",
    "print(f\"Number of unique protocols: {df['protocol'].nunique():,}\")\n",
    "\n",
    "df.head()"
   ]
  },
  {
   "cell_type": "markdown",
   "id": "8c4fd6c7",
   "metadata": {},
   "source": [
    "# 🔄 Предобработка данных"
   ]
  },
  {
   "cell_type": "code",
   "execution_count": 4,
   "id": "f0bad758",
   "metadata": {},
   "outputs": [],
   "source": [
    "# Coluns\n",
    "USER_COLUMNS = [\"user\"]\n",
    "ITEM_COLUMNS = [\"protocol\", \"chain\", \"pool\", \"types\"]\n",
    "FINAL_COLUMNS = [\"user_id\", \"item_id\", \"datetime\", \"weight\"]\n",
    "\n",
    "# Prepare dataframe\n",
    "df[\"datetime\"] = pd.to_datetime(dt.now())\n",
    "df.rename(columns={\"balance_share\": \"weight\"}, inplace=True)\n",
    "df[\"item\"] = df[ITEM_COLUMNS].apply(lambda x: '_'.join(x), axis=1)\n",
    "\n",
    "# Get Unique values\n",
    "uniq_users = df['user'].unique().tolist()\n",
    "uniq_items = df[\"item\"].unique().tolist()\n",
    "\n",
    "# Create Mappings\n",
    "ID_TO_USER = dict(enumerate(uniq_users))\n",
    "ID_TO_ITEM = dict(enumerate(uniq_items))\n",
    "USER_TO_ID = {user: idx for idx, user in ID_TO_USER.items()}\n",
    "ITEM_TO_ID = {item: idx for idx, item in ID_TO_ITEM.items()}\n",
    "\n",
    "# Map columns\n",
    "df[\"user_id\"] = df[\"user\"].map(USER_TO_ID)\n",
    "df[\"item_id\"] = df[\"item\"].map(ITEM_TO_ID)\n",
    "df_reco = df[FINAL_COLUMNS].copy()"
   ]
  },
  {
   "cell_type": "code",
   "execution_count": 5,
   "id": "79feb416",
   "metadata": {},
   "outputs": [
    {
     "name": "stdout",
     "output_type": "stream",
     "text": [
      "19378\n",
      "28909\n"
     ]
    }
   ],
   "source": [
    "print(df[\"user\"].nunique())\n",
    "print(df[\"item\"].nunique())"
   ]
  },
  {
   "cell_type": "markdown",
   "id": "81ef832f",
   "metadata": {},
   "source": [
    "## ( `SVD` ) Final Model"
   ]
  },
  {
   "cell_type": "markdown",
   "id": "04faaa8d",
   "metadata": {},
   "source": [
    "## 🔥 Hot Users"
   ]
  },
  {
   "cell_type": "code",
   "execution_count": 6,
   "id": "aeaa20d1",
   "metadata": {},
   "outputs": [],
   "source": [
    "svd_config = {\n",
    "    'cls': 'PureSVDModel',\n",
    "    'factors': 103,\n",
    "    'maxiter': 25,\n",
    "    'random_state': 23,\n",
    "    'recommend_n_threads': 0\n",
    "}"
   ]
  },
  {
   "cell_type": "code",
   "execution_count": 7,
   "id": "1d1d2d49",
   "metadata": {},
   "outputs": [
    {
     "data": {
      "text/plain": [
       "<rectools.models.pure_svd.PureSVDModel at 0x337622810>"
      ]
     },
     "execution_count": 7,
     "metadata": {},
     "output_type": "execute_result"
    }
   ],
   "source": [
    "dataset = Dataset.construct(df_reco)\n",
    "model = model_from_config(svd_config)\n",
    "model.fit(dataset)"
   ]
  },
  {
   "cell_type": "code",
   "execution_count": 8,
   "id": "c5c5e84b",
   "metadata": {},
   "outputs": [],
   "source": [
    "users = df_reco[\"user_id\"].unique()\n",
    "recos = model.recommend(k=25, users=users, dataset=dataset, filter_viewed=True)\n",
    "reco_json = recos.groupby([\"user_id\"])[\"item_id\"].apply(list).to_dict()"
   ]
  },
  {
   "cell_type": "code",
   "execution_count": 9,
   "id": "439aa8f6",
   "metadata": {},
   "outputs": [],
   "source": [
    "reco_json = {\n",
    "    ID_TO_USER[user_id]: [ID_TO_ITEM[item_id] for item_id in item_ids]\n",
    "    for user_id, item_ids in reco_json.items()\n",
    "}"
   ]
  },
  {
   "cell_type": "code",
   "execution_count": 10,
   "id": "3d57421a",
   "metadata": {},
   "outputs": [],
   "source": [
    "with open('../data/svd_recos' + '.json', \"w\", encoding=\"utf-8\") as file:\n",
    "    json.dump(reco_json, file, ensure_ascii=False, indent=4)"
   ]
  },
  {
   "cell_type": "code",
   "execution_count": 29,
   "id": "8ce3f766",
   "metadata": {},
   "outputs": [
    {
     "name": "stdout",
     "output_type": "stream",
     "text": [
      "n_users: {n_users:_} | n_items: {n_items:_}\n",
      "Shape users: (19378, 103)\n",
      "Shape items: (28909, 103)\n"
     ]
    }
   ],
   "source": [
    "# Counting\n",
    "n_users = df_reco[\"user_id\"].nunique()\n",
    "n_items = df_reco[\"item_id\"].nunique()\n",
    "print(\"n_users: {n_users:_} | n_items: {n_items:_}\")\n",
    "\n",
    "# Get vectors\n",
    "user_vectors, item_vectors = model.get_vectors()\n",
    "print(f\"Shape users: {user_vectors.shape}\")\n",
    "print(f\"Shape items: {item_vectors.shape}\")"
   ]
  },
  {
   "cell_type": "markdown",
   "id": "9cf1608e",
   "metadata": {},
   "source": [
    "## 🧊 Cold Users"
   ]
  },
  {
   "cell_type": "code",
   "execution_count": 37,
   "id": "04a09b37",
   "metadata": {},
   "outputs": [],
   "source": [
    "TOP_K = 25"
   ]
  },
  {
   "cell_type": "code",
   "execution_count": 38,
   "id": "8c6623d5",
   "metadata": {},
   "outputs": [],
   "source": [
    "popular = (\n",
    "    df_reco\n",
    "    .groupby([\"item_id\"])\n",
    "    .agg({\n",
    "        \"user_id\": \"nunique\",\n",
    "        \"datetime\": \"count\",\n",
    "    })\n",
    "    .rename(columns={\n",
    "        \"user_id\": \"au\",\n",
    "        \"datetime\": \"cnt\"\n",
    "    })\n",
    "    .sort_values(\"au\", ascending=False)\n",
    "    .reset_index()\n",
    ")[:TOP_K][\"item_id\"].tolist()"
   ]
  },
  {
   "cell_type": "code",
   "execution_count": 39,
   "id": "f317534b",
   "metadata": {},
   "outputs": [
    {
     "data": {
      "text/plain": [
       "['lido_eth_ETH_common',\n",
       " 'arb_gmx_arb_GMX_common',\n",
       " 'arb_gmx_arb_WBTC/WETH/USDC/LINK/UNI/USDT/MIM/FRAX/DAI_common',\n",
       " 'arb_gmx_arb_esGMX_common',\n",
       " 'avax_wonderland_avax_TIME_common',\n",
       " 'aave2_eth_AAVE_common',\n",
       " 'bsc_pancakeswap_bsc_Cake_common',\n",
       " 'op_synthetix_op_SNX_lending',\n",
       " 'looksrare_eth_LOOKS_common',\n",
       " 'matic_quickswap_matic_QUICK_common',\n",
       " 'convex_eth_cvxCRV_common',\n",
       " 'curve_eth_DAI/USDC/USDT_common',\n",
       " 'blur_eth_ETH_common',\n",
       " 'curve_eth_CRV_locked',\n",
       " 'arb_camelot_arb_GRAIL_common',\n",
       " 'ftm_geist_ftm_GEIST_common',\n",
       " 'era_syncswap_era_USDC/ETH_common',\n",
       " 'bsc_mdex_bsc_MDX_common',\n",
       " 'arb_arbitrum_arb_ARB_common',\n",
       " 'bsc_belt_bsc_DAI/USDC/USDT/BUSD_common',\n",
       " 'matic_klimadao_matic_KLIMA_common',\n",
       " 'olympusdao_eth_OHM_common',\n",
       " 'arb_radiantcapital2_arb_RDNT/WETH_locked',\n",
       " 'avax_gmx_avax_AVAX/WBTC.e/WETH.e/MIM/USDC.e/USDC/BTC.b_common',\n",
       " 'rocketpool_eth_ETH_common']"
      ]
     },
     "execution_count": 39,
     "metadata": {},
     "output_type": "execute_result"
    }
   ],
   "source": [
    "[ID_TO_ITEM[item_id] for item_id in popular]"
   ]
  }
 ],
 "metadata": {
  "kernelspec": {
   "display_name": "3.11.7",
   "language": "python",
   "name": "python3"
  },
  "language_info": {
   "codemirror_mode": {
    "name": "ipython",
    "version": 3
   },
   "file_extension": ".py",
   "mimetype": "text/x-python",
   "name": "python",
   "nbconvert_exporter": "python",
   "pygments_lexer": "ipython3",
   "version": "3.11.7"
  }
 },
 "nbformat": 4,
 "nbformat_minor": 5
}
